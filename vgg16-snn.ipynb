{
  "cells": [
    {
      "cell_type": "code",
      "execution_count": 19,
      "metadata": {
        "id": "Qeec01hbb1Is"
      },
      "outputs": [],
      "source": [
        "import os\n",
        "import tensorflow as tf\n",
        "import numpy as np\n",
        "import matplotlib.pyplot as plt\n",
        "import nengo\n",
        "import nengo_dl\n",
        "from tensorflow.keras.utils import to_categorical\n",
        "\n",
        "#sources:\n",
        "#https://www.kaggle.com/code/vtu5118/cifar-10-using-vgg16\n",
        "#https://towardsdatascience.com/creating-vgg-from-scratch-using-tensorflow-a998a5640155"
      ]
    },
    {
      "cell_type": "code",
      "execution_count": 20,
      "metadata": {
        "colab": {
          "base_uri": "https://localhost:8080/",
          "height": 952
        },
        "id": "3wvUGsdHyeJs",
        "outputId": "b883ac3c-9d1a-4477-ecff-a5c3939c68f5"
      },
      "outputs": [
        {
          "name": "stdout",
          "output_type": "stream",
          "text": [
            "Model: \"sequential_3\"\n",
            "_________________________________________________________________\n",
            " Layer (type)                Output Shape              Param #   \n",
            "=================================================================\n",
            " block1_conv1 (Conv2D)       (None, 32, 32, 64)        1792      \n",
            "                                                                 \n",
            " block1_conv2 (Conv2D)       (None, 32, 32, 64)        36928     \n",
            "                                                                 \n",
            " block1_pool (MaxPooling2D)  (None, 16, 16, 64)        0         \n",
            "                                                                 \n",
            " block2_conv1 (Conv2D)       (None, 16, 16, 128)       73856     \n",
            "                                                                 \n",
            " block2_conv2 (Conv2D)       (None, 16, 16, 128)       147584    \n",
            "                                                                 \n",
            " block2_pool (MaxPooling2D)  (None, 8, 8, 128)         0         \n",
            "                                                                 \n",
            " block3_conv1 (Conv2D)       (None, 8, 8, 256)         295168    \n",
            "                                                                 \n",
            " block3_conv2 (Conv2D)       (None, 8, 8, 256)         590080    \n",
            "                                                                 \n",
            " block3_conv3 (Conv2D)       (None, 8, 8, 256)         590080    \n",
            "                                                                 \n",
            " block3_pool (MaxPooling2D)  (None, 4, 4, 256)         0         \n",
            "                                                                 \n",
            " block4_conv1 (Conv2D)       (None, 4, 4, 512)         1180160   \n",
            "                                                                 \n",
            " block4_conv2 (Conv2D)       (None, 4, 4, 512)         2359808   \n",
            "                                                                 \n",
            " block4_conv3 (Conv2D)       (None, 4, 4, 512)         2359808   \n",
            "                                                                 \n",
            " block4_pool (MaxPooling2D)  (None, 2, 2, 512)         0         \n",
            "                                                                 \n",
            " block5_conv1 (Conv2D)       (None, 2, 2, 512)         2359808   \n",
            "                                                                 \n",
            " block5_conv2 (Conv2D)       (None, 2, 2, 512)         2359808   \n",
            "                                                                 \n",
            " block5_conv3 (Conv2D)       (None, 2, 2, 512)         2359808   \n",
            "                                                                 \n",
            " block5_pool (MaxPooling2D)  (None, 1, 1, 512)         0         \n",
            "                                                                 \n",
            " flatten_3 (Flatten)         (None, 512)               0         \n",
            "                                                                 \n",
            " hidden1 (Dense)             (None, 512)               262656    \n",
            "                                                                 \n",
            " dropout_6 (Dropout)         (None, 512)               0         \n",
            "                                                                 \n",
            " hidden2 (Dense)             (None, 256)               131328    \n",
            "                                                                 \n",
            " dropout_7 (Dropout)         (None, 256)               0         \n",
            "                                                                 \n",
            " predictions (Dense)         (None, 10)                2570      \n",
            "                                                                 \n",
            "=================================================================\n",
            "Total params: 15,111,242\n",
            "Trainable params: 15,111,242\n",
            "Non-trainable params: 0\n",
            "_________________________________________________________________\n"
          ]
        }
      ],
      "source": [
        "vgg16_model = tf.keras.applications.vgg16.VGG16(weights='imagenet',\n",
        "                    include_top=False,\n",
        "                    classes=10,\n",
        "                    input_shape=(32,32,3)# input: 32x32 images with 3 channels -> (32, 32, 3) tensors.\n",
        "                   )\n",
        "\n",
        "model = tf.keras.models.Sequential()\n",
        "\n",
        "# Add vgg16 layers\n",
        "for layer in vgg16_model.layers:\n",
        "    model.add(layer)\n",
        "\n",
        "\n",
        "# Fully connected layers\n",
        "model.add(tf.keras.layers.Flatten())\n",
        "model.add(tf.keras.layers.Dense(512, activation='relu', name='hidden1'))\n",
        "model.add(tf.keras.layers.Dropout(0.4))\n",
        "model.add(tf.keras.layers.Dense(256, activation='relu', name='hidden2'))\n",
        "model.add(tf.keras.layers.Dropout(0.4))\n",
        "model.add(tf.keras.layers.Dense(10, activation='softmax', name='predictions'))\n",
        "\n",
        "model.summary()"
      ]
    },
    {
      "cell_type": "markdown",
      "metadata": {
        "id": "QpL5gw_yycfa"
      },
      "source": []
    },
    {
      "cell_type": "code",
      "execution_count": 21,
      "metadata": {
        "id": "pxpwFCsqcbXb"
      },
      "outputs": [],
      "source": [
        "# Load CIFAR10 data\n",
        "(x_train, y_train), (x_test, y_test) = tf.keras.datasets.cifar10.load_data()\n",
        "\n",
        "# One hot encode labels\n",
        "y_train = to_categorical(y_train, num_classes=10)\n",
        "y_test = to_categorical(y_test, num_classes=10)\n",
        "\n",
        "# Data normalization\n",
        "x_train = x_train.astype('float32')\n",
        "x_test = x_test.astype('float32')\n",
        "x_train  /= 255\n",
        "x_test /= 255"
      ]
    },
    {
      "cell_type": "code",
      "execution_count": 22,
      "metadata": {
        "colab": {
          "base_uri": "https://localhost:8080/"
        },
        "id": "UgE6iNj2rxQD",
        "outputId": "51e835eb-71aa-4957-ebdc-14f3aacaea33"
      },
      "outputs": [
        {
          "name": "stdout",
          "output_type": "stream",
          "text": [
            "(50000, 32, 32, 3)\n",
            "(50000, 32, 32, 3)\n",
            "(10000, 32, 32, 3)\n",
            "(10000, 10)\n",
            "(40000, 32, 32, 3)\n",
            "(40000, 10)\n"
          ]
        }
      ],
      "source": [
        "# Shuffle data before splitting into validation set\n",
        "\n",
        "p = np.random.permutation(len(x_train))\n",
        "print(x_train.shape)\n",
        "x_train, y_train = x_train[p], y_train[p]\n",
        "print(x_train.shape)\n",
        "\n",
        "# 20% validation, 80% training\n",
        "val_split = 0.2\n",
        "num_val = int(val_split * len(x_train))\n",
        "\n",
        "# Split into train, validation, and test sets\n",
        "x_val = x_train[:num_val]\n",
        "y_val = y_train[:num_val]\n",
        "print(x_val.shape)\n",
        "print(y_val.shape)\n",
        "\n",
        "x_train = x_train[num_val:]\n",
        "y_train = y_train[num_val:]\n",
        "print(x_train.shape)\n",
        "print(y_train.shape)"
      ]
    },
    {
      "cell_type": "code",
      "execution_count": 23,
      "metadata": {
        "id": "xqsdX0-qjfbY"
      },
      "outputs": [],
      "source": [
        "# For saving model weights\n",
        "checkpoint_path = \"training/vgg16.weights.h5\"\n",
        "checkpoint_dir = os.path.dirname(checkpoint_path)\n",
        "\n",
        "# Create a callback that saves the model's weights\n",
        "cp_callback = tf.keras.callbacks.ModelCheckpoint(filepath=checkpoint_path,\n",
        "                                                 save_weights_only=True,\n",
        "                                                 verbose=1)"
      ]
    },
    {
      "cell_type": "code",
      "execution_count": 24,
      "metadata": {
        "colab": {
          "base_uri": "https://localhost:8080/"
        },
        "id": "hBDuaQb9cx_H",
        "outputId": "55bd2d77-5842-461b-e2d2-7c5a2d8d5e28"
      },
      "outputs": [],
      "source": [
        "# Train model with tf\n",
        "optimizer = tf.keras.optimizers.SGD(learning_rate=0.001, momentum=0.9)\n",
        "# batch_size = 128\n",
        "# epochs = 100\n",
        "\n",
        "model.compile(\n",
        "    optimizer=optimizer,\n",
        "    # optimizer='adam',\n",
        "    loss='categorical_crossentropy',\n",
        "    metrics=[\n",
        "        'accuracy'\n",
        "    ]\n",
        ")\n",
        "\n",
        "# def lr_scheduler(epoch):\n",
        "#     return 0.001 * (0.5 ** (epoch // 20))\n",
        "\n",
        "# reduce_lr = tf.keras.callbacks.LearningRateScheduler(lr_scheduler)\n",
        "\n",
        "# aug = tf.keras.preprocessing.image.ImageDataGenerator(\n",
        "#     rotation_range=20,\n",
        "#     zoom_range=0.15,\n",
        "#     width_shift_range=0.2,\n",
        "#     height_shift_range=0.2,\n",
        "#     shear_range=0.15,\n",
        "#     horizontal_flip=True,\n",
        "#     fill_mode=\"nearest\")\n",
        "\n",
        "# model.fit(aug.flow(x_train,y_train, batch_size=batch_size),\n",
        "#           batch_size=batch_size,\n",
        "#           epochs=epochs,\n",
        "#           callbacks=[reduce_lr, cp_callback],\n",
        "#           validation_data=(x_val, y_val))"
      ]
    },
    {
      "cell_type": "code",
      "execution_count": 25,
      "metadata": {
        "colab": {
          "base_uri": "https://localhost:8080/"
        },
        "id": "tnK3eAfxiHNX",
        "outputId": "c0bebfef-a10b-405e-f10e-ff6b6ed758c7"
      },
      "outputs": [
        {
          "name": "stderr",
          "output_type": "stream",
          "text": [
            "2024-09-24 23:11:34.166665: I tensorflow/stream_executor/cuda/cuda_dnn.cc:384] Loaded cuDNN version 8100\n",
            "2024-09-24 23:11:35.234929: I tensorflow/core/platform/default/subprocess.cc:304] Start cannot spawn child process: No such file or directory\n"
          ]
        },
        {
          "name": "stdout",
          "output_type": "stream",
          "text": [
            " 15/313 [>.............................] - ETA: 2s - loss: 0.4016 - accuracy: 0.8750 "
          ]
        },
        {
          "name": "stderr",
          "output_type": "stream",
          "text": [
            "2024-09-24 23:11:36.287026: I tensorflow/stream_executor/cuda/cuda_blas.cc:1614] TensorFloat-32 will be used for the matrix multiplication. This will only be logged once.\n"
          ]
        },
        {
          "name": "stdout",
          "output_type": "stream",
          "text": [
            "313/313 [==============================] - 6s 8ms/step - loss: 0.4016 - accuracy: 0.8821\n",
            "Test Acc: 88.21%, Test Loss:  0.40\n"
          ]
        }
      ],
      "source": [
        "model.load_weights(checkpoint_path)\n",
        "\n",
        "loss, acc = model.evaluate(x_test, y_test)\n",
        "# 88% acc with tf\n",
        "print(\"Test Acc: {:5.2f}%, Test Loss: {:5.2f}\".format(100 * acc, loss))"
      ]
    },
    {
      "cell_type": "code",
      "execution_count": 26,
      "metadata": {},
      "outputs": [],
      "source": [
        "# Add time dimension to data for SNN\n",
        "def add_time_dimension(arr):\n",
        "    return np.reshape(arr, (arr.shape[0], 1, -1))\n",
        "\n",
        "X_train_t = add_time_dimension(x_train)\n",
        "Y_train_t = add_time_dimension(y_train)\n",
        "X_val_t = add_time_dimension(x_val)\n",
        "Y_val_t = add_time_dimension(y_val)\n",
        "X_test_t = add_time_dimension(x_test)\n",
        "Y_test_t = add_time_dimension(y_test)"
      ]
    },
    {
      "cell_type": "code",
      "execution_count": 27,
      "metadata": {},
      "outputs": [
        {
          "name": "stderr",
          "output_type": "stream",
          "text": [
            "/root/vgg16-snn/.env/lib/python3.8/site-packages/nengo_dl/converter.py:920: UserWarning: Converting sequential model to functional model; use `Converter.model` to refer to the functional model (rather than the original sequential model) when working with the output of the Converter\n",
            "  warnings.warn(\n",
            "/root/vgg16-snn/.env/lib/python3.8/site-packages/nengo_dl/converter.py:324: UserWarning: Cannot convert max pooling layers to native Nengo objects; consider setting max_to_avg_pool=True to use average pooling instead. Falling back to TensorNode.\n",
            "  warnings.warn(\n",
            "/root/vgg16-snn/.env/lib/python3.8/site-packages/nengo_dl/converter.py:324: UserWarning: Layer type Dropout does not have a registered converter. Falling back to TensorNode.\n",
            "  warnings.warn(\n",
            "/root/vgg16-snn/.env/lib/python3.8/site-packages/nengo_dl/converter.py:583: UserWarning: Activation type <function softmax at 0x7fb8a00c3430> does not have a native Nengo equivalent; falling back to a TensorNode\n",
            "  warnings.warn(\n"
          ]
        }
      ],
      "source": [
        "converter = nengo_dl.Converter(\n",
        "    model,\n",
        "    swap_activations={\n",
        "        tf.keras.activations.relu: nengo.SpikingRectifiedLinear()\n",
        "    },\n",
        "    scale_firing_rates=20,\n",
        "    synapse=0.01,\n",
        "    inference_only=True,\n",
        "    # max_to_avg_pool=True\n",
        ")"
      ]
    },
    {
      "cell_type": "code",
      "execution_count": 28,
      "metadata": {},
      "outputs": [],
      "source": [
        "# Source: https://r-gaurav.github.io/2021/03/07/Spiking-Neural-Nets-for-Image-Classification-in-Nengo-DL.html\n",
        "# Tile the test images n_steps times.\n",
        "def get_nengo_compatible_test_data_generator(x, y, batch_size=100, n_steps=30):\n",
        "  \"\"\"\n",
        "  Returns a test data generator of tiled (i.e. repeated) images.\n",
        "\n",
        "  Args:\n",
        "    batch_size <int>: Number of data elements in each batch.\n",
        "    n_steps <int>: Number of timesteps for which the test data has to\n",
        "                   be repeated.\n",
        "  \"\"\"\n",
        "  num_images = x.shape[0]\n",
        "  # Flatten the images\n",
        "  reshaped_x = x.reshape((num_images, 1, -1))\n",
        "  # Tile/Repeat them for `n_steps` times.\n",
        "  tiled_x = np.tile(reshaped_x, (1, n_steps, 1))\n",
        "\n",
        "  for i in range(0, num_images, batch_size):\n",
        "    yield (tiled_x[i:i+batch_size], y[i:i+batch_size])"
      ]
    },
    {
      "cell_type": "code",
      "execution_count": 29,
      "metadata": {},
      "outputs": [],
      "source": [
        "model_input = list(converter.inputs.keys())[0]\n",
        "model_output = list(converter.outputs.keys())[0]\n",
        "\n",
        "model_layers = list(converter.layers.keys())\n",
        "conv1 = model_layers[1]\n",
        "penltmt_layer = model_layers[-3]\n",
        "\n",
        "# Get the probes for Input, first Conv, and the Output layers.\n",
        "ndl_mdl_inpt = converter.inputs[model_input] # Input layer is Layer 0.\n",
        "ndl_mdl_otpt = converter.outputs[model_output] # Output layer is last.\n",
        "\n",
        "with converter.net:\n",
        "  nengo_dl.configure_settings(stateful=False) # Optimize simulation speed.\n",
        "  # Probe for the first Conv layer.\n",
        "  first_conv_probe = nengo.Probe(converter.layers[conv1])\n",
        "  # Probe for penultimate dense layer.\n",
        "  penltmt_dense_probe = nengo.Probe(converter.layers[[penltmt_layer]])"
      ]
    },
    {
      "cell_type": "code",
      "execution_count": 50,
      "metadata": {},
      "outputs": [
        {
          "name": "stdout",
          "output_type": "stream",
          "text": [
            "|                     Building network (0%)                    | ETA:  --:--:--\n",
            "|                     Building network (0%)                    | ETA:  --:--:--\n",
            "|                     Building network (0%)                    | ETA:  --:--:--\n",
            "|                     Building network (0%)                    | ETA:  --:--:--\n",
            "|                     Building network (0%)                    | ETA:  --:--:--\n",
            "|                      Building network (0%)                     | ETA: 0:00:52\n",
            "|                      Building network (0%)                     | ETA: 0:01:02\n",
            "|                      Building network (0%)                     | ETA: 0:01:13\n",
            "|                      Building network (0%)                     | ETA: 0:01:23\n",
            "|                      Building network (0%)                     | ETA: 0:01:34\n",
            "|#                     Building network (1%)                     | ETA: 0:00:49\n",
            "|#                     Building network (1%)                     | ETA: 0:00:51\n",
            "|#                     Building network (1%)                     | ETA: 0:00:54\n",
            "|#                     Building network (1%)                     | ETA: 0:00:57\n",
            "|#                     Building network (1%)                     | ETA: 0:00:59\n",
            "|#                     Building network (2%)                     | ETA: 0:00:41\n",
            "|#                     Building network (2%)                     | ETA: 0:00:42\n",
            "|#                     Building network (2%)                     | ETA: 0:00:44\n",
            "|#                     Building network (2%)                     | ETA: 0:00:46\n",
            "|#                     Building network (2%)                     | ETA: 0:00:48\n",
            "|##                    Building network (3%)                     | ETA: 0:00:36\n",
            "|##                    Building network (3%)                     | ETA: 0:00:38\n",
            "|###                   Building network (4%)                     | ETA: 0:00:31\n",
            "|###                   Building network (4%)                     | ETA: 0:00:32\n",
            "|###                   Building network (4%)                     | ETA: 0:00:33\n",
            "|###                   Building network (5%)                     | ETA: 0:00:28\n",
            "|###                   Building network (5%)                     | ETA: 0:00:29\n",
            "|####                  Building network (6%)                     | ETA: 0:00:25\n",
            "|####                  Building network (6%)                     | ETA: 0:00:26\n",
            "|####                  Building network (7%)                     | ETA: 0:00:23\n",
            "|#####                 Building network (8%)                     | ETA: 0:00:21\n",
            "|######               Building network (10%)                     | ETA: 0:00:17\n",
            "|#####################Building network (53%)                     | ETA: 0:00:01\n",
            "|#####################Building network (81%)#########            | ETA: 0:00:00\n",
            "Build finished in 0:00:02\n",
            "|#                         Optimizing graph                           | 0:00:00\n",
            "|#             Optimizing graph: operator simplificaton               | 0:00:00\n",
            "| #            Optimizing graph: operator simplificaton               | 0:00:00\n",
            "|  #           Optimizing graph: operator simplificaton               | 0:00:00\n",
            "Optimizing graph: operator simplificaton finished in 0:00:00\n",
            "|   #                      Optimizing graph                           | 0:00:00\n",
            "|#                Optimizing graph: merging operators                 | 0:00:00\n",
            "Optimizing graph: merging operators finished in 0:00:00\n",
            "|#                Optimizing graph: ordering signals                  | 0:00:00\n",
            "Optimizing graph: ordering signals finished in 0:00:00\n",
            "|    #                     Optimizing graph                           | 0:00:00\n",
            "|#                Optimizing graph: creating signals                  | 0:00:00\n",
            "Optimizing graph: creating signals finished in 0:00:00\n",
            "Optimization finished in 0:00:00\n",
            "|#                        Constructing graph                          | 0:00:00\n",
            "| #                       Constructing graph                          | 0:00:00\n",
            "|  #                      Constructing graph                          | 0:00:00\n",
            "|   #                     Constructing graph                          | 0:00:00\n",
            "|    #                    Constructing graph                          | 0:00:00\n",
            "|     #                   Constructing graph                          | 0:00:00\n",
            "|           Constructing graph: pre-build stage (0%)           | ETA:  --:--:--\n",
            "|############Constructing graph: pre-build stage (73%)           | ETA: 0:00:00\n",
            "|      #                  Constructing graph                          | 0:00:00\n",
            "Constructing graph: pre-build stage finished in 0:00:00\n",
            "|             Constructing graph: build stage (0%)             | ETA:  --:--:--\n",
            "|             Constructing graph: build stage (0%)             | ETA:  --:--:--\n",
            "|             Constructing graph: build stage (0%)             | ETA:  --:--:--\n",
            "|             Constructing graph: build stage (0%)             | ETA:  --:--:--\n",
            "|             Constructing graph: build stage (0%)             | ETA:  --:--:--\n",
            "|             Constructing graph: build stage (0%)             | ETA:  --:--:--\n",
            "|              Constructing graph: build stage (1%)              | ETA: 0:00:53\n",
            "|####          Constructing graph: build stage (7%)              | ETA: 0:00:10\n",
            "|#########     Constructing graph: build stage (14%)             | ETA: 0:00:05\n",
            "|############# Constructing graph: build stage (21%)             | ETA: 0:00:03\n",
            "|##############Constructing graph: build stage (30%)             | ETA: 0:00:02\n",
            "|##############Constructing graph: build stage (42%)             | ETA: 0:00:01\n",
            "|##############Constructing graph: build stage (50%)             | ETA: 0:00:01\n",
            "|##############Constructing graph: build stage (63%)             | ETA: 0:00:00\n",
            "|##############Constructing graph: build stage (76%)             | ETA: 0:00:00\n",
            "|##############Constructing graph: build stage (81%)             | ETA: 0:00:00\n",
            "|##############Constructing graph: build stage (92%)########     | ETA: 0:00:00\n",
            "|############Constructing graph: build stage (100%)############| ETA:  00:00:00\n",
            "Constructing graph: build stage finished in 0:00:01\n",
            "|                    #    Constructing graph                          | 0:00:02\n",
            "Construction finished in 0:00:02\n",
            "Starting inference on 16 batches...\n",
            "Running inference on batch 1/16...\n",
            "|           Constructing graph: pre-build stage (0%)           | ETA:  --:--:--\n",
            "|############Constructing graph: pre-build stage (73%)           | ETA: 0:00:00\n",
            "Constructing graph: pre-build stage finished in 0:00:00\n",
            "|             Constructing graph: build stage (0%)             | ETA:  --:--:--\n",
            "|             Constructing graph: build stage (0%)             | ETA:  --:--:--\n",
            "|             Constructing graph: build stage (0%)             | ETA:  --:--:--\n",
            "|              Constructing graph: build stage (1%)              | ETA: 0:00:20\n",
            "|#####         Constructing graph: build stage (8%)              | ETA: 0:00:03\n",
            "|#########     Constructing graph: build stage (14%)             | ETA: 0:00:02\n",
            "|############# Constructing graph: build stage (21%)             | ETA: 0:00:01\n",
            "|##############Constructing graph: build stage (31%)             | ETA: 0:00:01\n",
            "|##############Constructing graph: build stage (40%)             | ETA: 0:00:00\n",
            "|##############Constructing graph: build stage (52%)             | ETA: 0:00:00\n",
            "|##############Constructing graph: build stage (63%)             | ETA: 0:00:00\n",
            "|##############Constructing graph: build stage (76%)             | ETA: 0:00:00\n",
            "|##############Constructing graph: build stage (84%)##           | ETA: 0:00:00\n",
            "|############Constructing graph: build stage (100%)############| ETA:  00:00:00\n",
            "|############Constructing graph: build stage (100%)############| ETA:  00:00:00\n",
            "|############Constructing graph: build stage (100%)############| ETA:  00:00:00\n",
            "|############Constructing graph: build stage (100%)############| ETA:  00:00:00\n",
            "|############Constructing graph: build stage (100%)############| ETA:  00:00:00\n",
            "Constructing graph: build stage finished in 0:00:01\n",
            "Running inference on batch 2/16...\n",
            "Running inference on batch 3/16...\n",
            "Running inference on batch 4/16...\n",
            "Running inference on batch 5/16...\n",
            "Running inference on batch 6/16...\n",
            "Running inference on batch 7/16...\n",
            "Running inference on batch 8/16...\n",
            "Running inference on batch 9/16...\n",
            "Running inference on batch 10/16...\n",
            "Running inference on batch 11/16...\n",
            "Running inference on batch 12/16...\n",
            "Running inference on batch 13/16...\n",
            "Running inference on batch 14/16...\n",
            "Running inference on batch 15/16...\n",
            "Running inference on batch 16/16...\n"
          ]
        }
      ],
      "source": [
        "n_steps = 256 # Number of timesteps\n",
        "batch_size = 32\n",
        "collect_spikes_output = True\n",
        "\n",
        "ndl_mdl_spikes = [] # To store the spike outputs of the first Conv layer and the\n",
        "                # penultimate dense layer whose probes we defined earlier.\n",
        "ndl_mdl_otpt_cls_probs = [] # To store the true class labels and the temporal\n",
        "                            # class-probabilities output of the model.\n",
        "\n",
        "num_samples = 512\n",
        "x_test_slice = X_test_t[:num_samples]\n",
        "y_test_slice = Y_test_t[:num_samples]\n",
        "\n",
        "test_batches = get_nengo_compatible_test_data_generator(x_test_slice, y_test_slice,\n",
        "    batch_size=batch_size, n_steps = n_steps)\n",
        "\n",
        "ndl_mdl_inpt = converter.inputs[model_input] # Input layer is Layer 0.\n",
        "ndl_mdl_otpt = converter.outputs[model_output] # Output layer is last.\n",
        "\n",
        "num_batches = int(x_test_slice.shape[0] / batch_size)\n",
        "\n",
        "# Run the simulation.\n",
        "with nengo_dl.Simulator(converter.net, minibatch_size=batch_size) as sim:\n",
        "    # Predict on each batch.\n",
        "    print(f\"Starting inference on {num_batches} batches...\")\n",
        "    for i, batch in enumerate(test_batches):\n",
        "        if len(batch[0]) < batch_size:\n",
        "            print(f\"Batch {i} too small ({len(batch)} < {batch_size}). Skipping...\")\n",
        "            continue\n",
        "        print(f\"Running inference on batch {(i + 1)}/{num_batches}...\")\n",
        "        sim_data = sim.predict_on_batch({ndl_mdl_inpt: batch[0]})\n",
        "        for y_true, y_pred in zip(batch[1], sim_data[ndl_mdl_otpt]):\n",
        "            # Note that y_true is an array of shape (10,) and y_pred is a matrix of\n",
        "            # shape (n_steps, 10) where 10 is the number of classes in CIFAR-10 dataset.\n",
        "            ndl_mdl_otpt_cls_probs.append((y_true, y_pred))\n",
        "        \n",
        "        # Collect the spikes if required.\n",
        "        if collect_spikes_output:\n",
        "            for i in range(batch_size): # Collecting spikes for each image in first batch.\n",
        "                ndl_mdl_spikes.append({\n",
        "                    first_conv_probe.obj.ensemble.label: sim_data[first_conv_probe][i],\n",
        "                    penltmt_dense_probe.obj.ensemble.label: sim_data[penltmt_dense_probe][i]\n",
        "                })\n",
        "            # Not collecting the spikes for rest batches to save memory.\n",
        "            collect_spikes_output = False\n"
      ]
    },
    {
      "cell_type": "code",
      "execution_count": 53,
      "metadata": {},
      "outputs": [
        {
          "name": "stdout",
          "output_type": "stream",
          "text": [
            "Spiking network prediction accuracy: 21.2890625 %\n"
          ]
        }
      ],
      "source": [
        "acc = 0\n",
        "temporal_cls_probs = [] # To store the temporal class-probabilities of each test image.\n",
        "for y_true, y_pred in ndl_mdl_otpt_cls_probs:\n",
        "  # Pick the spiking network's last time-step output, therefore -1 in y_pred.\n",
        "  temporal_cls_probs.append(y_pred)\n",
        "  if np.argmax(y_true) == np.argmax(y_pred[-1]):\n",
        "    acc += 1\n",
        "\n",
        "print(\"Spiking network prediction accuracy: %s %%\" % (acc * 100/ x_test_slice.shape[0]))"
      ]
    }
  ],
  "metadata": {
    "accelerator": "GPU",
    "colab": {
      "gpuType": "T4",
      "provenance": []
    },
    "kernelspec": {
      "display_name": "Python 3",
      "name": "python3"
    },
    "language_info": {
      "codemirror_mode": {
        "name": "ipython",
        "version": 3
      },
      "file_extension": ".py",
      "mimetype": "text/x-python",
      "name": "python",
      "nbconvert_exporter": "python",
      "pygments_lexer": "ipython3",
      "version": "3.8.10"
    }
  },
  "nbformat": 4,
  "nbformat_minor": 0
}
