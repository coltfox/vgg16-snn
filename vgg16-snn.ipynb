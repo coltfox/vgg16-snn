{
  "cells": [
    {
      "cell_type": "code",
      "execution_count": 10,
      "metadata": {
        "id": "Qeec01hbb1Is"
      },
      "outputs": [],
      "source": [
        "import os\n",
        "import tensorflow as tf\n",
        "import numpy as np\n",
        "import matplotlib.pyplot as plt\n",
        "import nengo\n",
        "import nengo_dl\n",
        "from keras.utils import to_categorical\n",
        "\n",
        "#sources:\n",
        "#https://www.kaggle.com/code/vtu5118/cifar-10-using-vgg16\n",
        "#https://towardsdatascience.com/creating-vgg-from-scratch-using-tensorflow-a998a5640155"
      ]
    },
    {
      "cell_type": "code",
      "execution_count": 2,
      "metadata": {
        "colab": {
          "base_uri": "https://localhost:8080/",
          "height": 952
        },
        "id": "3wvUGsdHyeJs",
        "outputId": "b883ac3c-9d1a-4477-ecff-a5c3939c68f5"
      },
      "outputs": [
        {
          "name": "stdout",
          "output_type": "stream",
          "text": [
            "Model: \"sequential\"\n",
            "_________________________________________________________________\n",
            " Layer (type)                Output Shape              Param #   \n",
            "=================================================================\n",
            " block1_conv1 (Conv2D)       (None, 32, 32, 64)        1792      \n",
            "                                                                 \n",
            " block1_conv2 (Conv2D)       (None, 32, 32, 64)        36928     \n",
            "                                                                 \n",
            " block1_pool (MaxPooling2D)  (None, 16, 16, 64)        0         \n",
            "                                                                 \n",
            " block2_conv1 (Conv2D)       (None, 16, 16, 128)       73856     \n",
            "                                                                 \n",
            " block2_conv2 (Conv2D)       (None, 16, 16, 128)       147584    \n",
            "                                                                 \n",
            " block2_pool (MaxPooling2D)  (None, 8, 8, 128)         0         \n",
            "                                                                 \n",
            " block3_conv1 (Conv2D)       (None, 8, 8, 256)         295168    \n",
            "                                                                 \n",
            " block3_conv2 (Conv2D)       (None, 8, 8, 256)         590080    \n",
            "                                                                 \n",
            " block3_conv3 (Conv2D)       (None, 8, 8, 256)         590080    \n",
            "                                                                 \n",
            " block3_pool (MaxPooling2D)  (None, 4, 4, 256)         0         \n",
            "                                                                 \n",
            " block4_conv1 (Conv2D)       (None, 4, 4, 512)         1180160   \n",
            "                                                                 \n",
            " block4_conv2 (Conv2D)       (None, 4, 4, 512)         2359808   \n",
            "                                                                 \n",
            " block4_conv3 (Conv2D)       (None, 4, 4, 512)         2359808   \n",
            "                                                                 \n",
            " block4_pool (MaxPooling2D)  (None, 2, 2, 512)         0         \n",
            "                                                                 \n",
            " block5_conv1 (Conv2D)       (None, 2, 2, 512)         2359808   \n",
            "                                                                 \n",
            " block5_conv2 (Conv2D)       (None, 2, 2, 512)         2359808   \n",
            "                                                                 \n",
            " block5_conv3 (Conv2D)       (None, 2, 2, 512)         2359808   \n",
            "                                                                 \n",
            " block5_pool (MaxPooling2D)  (None, 1, 1, 512)         0         \n",
            "                                                                 \n",
            " flatten (Flatten)           (None, 512)               0         \n",
            "                                                                 \n",
            " hidden1 (Dense)             (None, 512)               262656    \n",
            "                                                                 \n",
            " dropout (Dropout)           (None, 512)               0         \n",
            "                                                                 \n",
            " hidden2 (Dense)             (None, 256)               131328    \n",
            "                                                                 \n",
            " dropout_1 (Dropout)         (None, 256)               0         \n",
            "                                                                 \n",
            " predictions (Dense)         (None, 10)                2570      \n",
            "                                                                 \n",
            "=================================================================\n",
            "Total params: 15,111,242\n",
            "Trainable params: 15,111,242\n",
            "Non-trainable params: 0\n",
            "_________________________________________________________________\n"
          ]
        }
      ],
      "source": [
        "vgg16_model = tf.keras.applications.vgg16.VGG16(weights='imagenet',\n",
        "                    include_top=False,\n",
        "                    classes=10,\n",
        "                    input_shape=(32,32,3)# input: 32x32 images with 3 channels -> (32, 32, 3) tensors.\n",
        "                   )\n",
        "\n",
        "model = tf.keras.models.Sequential()\n",
        "\n",
        "# Add vgg16 layers\n",
        "for layer in vgg16_model.layers:\n",
        "    model.add(layer)\n",
        "\n",
        "\n",
        "# Fully connected layers\n",
        "model.add(tf.keras.layers.Flatten())\n",
        "model.add(tf.keras.layers.Dense(512, activation='relu', name='hidden1'))\n",
        "model.add(tf.keras.layers.Dropout(0.4))\n",
        "model.add(tf.keras.layers.Dense(256, activation='relu', name='hidden2'))\n",
        "model.add(tf.keras.layers.Dropout(0.4))\n",
        "model.add(tf.keras.layers.Dense(10, activation='softmax', name='predictions'))\n",
        "\n",
        "model.summary()"
      ]
    },
    {
      "cell_type": "markdown",
      "metadata": {
        "id": "QpL5gw_yycfa"
      },
      "source": []
    },
    {
      "cell_type": "code",
      "execution_count": 14,
      "metadata": {
        "id": "pxpwFCsqcbXb"
      },
      "outputs": [
        {
          "name": "stdout",
          "output_type": "stream",
          "text": [
            "(50000, 32, 32, 3)\n"
          ]
        },
        {
          "data": {
            "image/png": "[encoded data removed]",
            "text/plain": [
              "<Figure size 1200x400 with 3 Axes>"
            ]
          },
          "metadata": {},
          "output_type": "display_data"
        }
      ],
      "source": [
        "# Load CIFAR10 data\n",
        "(x_train, y_train), (x_test, y_test) = tf.keras.datasets.cifar10.load_data()\n",
        "\n",
        "# One hot encode labels\n",
        "y_train = to_categorical(y_train, num_classes=10)\n",
        "y_test = to_categorical(y_test, num_classes=10)\n",
        "\n",
        "# Data normalization\n",
        "x_train = x_train.astype('float32')\n",
        "x_test = x_test.astype('float32')\n",
        "x_train  /= 255\n",
        "x_test /= 255"
      ]
    },
    {
      "cell_type": "code",
      "execution_count": 4,
      "metadata": {
        "colab": {
          "base_uri": "https://localhost:8080/"
        },
        "id": "UgE6iNj2rxQD",
        "outputId": "51e835eb-71aa-4957-ebdc-14f3aacaea33"
      },
      "outputs": [
        {
          "name": "stdout",
          "output_type": "stream",
          "text": [
            "(50000, 32, 32, 3)\n",
            "(50000, 32, 32, 3)\n",
            "(10000, 32, 32, 3)\n",
            "(10000, 10)\n",
            "(40000, 32, 32, 3)\n",
            "(40000, 10)\n"
          ]
        }
      ],
      "source": [
        "# Shuffle data before splitting into validation set\n",
        "\n",
        "p = np.random.permutation(len(x_train))\n",
        "print(x_train.shape)\n",
        "x_train, y_train = x_train[p], y_train[p]\n",
        "print(x_train.shape)\n",
        "\n",
        "# 20% validation, 80% training\n",
        "val_split = 0.2\n",
        "num_val = int(val_split * len(x_train))\n",
        "\n",
        "# Split into train, validation, and test sets\n",
        "x_val = x_train[:num_val]\n",
        "y_val = y_train[:num_val]\n",
        "print(x_val.shape)\n",
        "print(y_val.shape)\n",
        "\n",
        "x_train = x_train[num_val:]\n",
        "y_train = y_train[num_val:]\n",
        "print(x_train.shape)\n",
        "print(y_train.shape)"
      ]
    },
    {
      "cell_type": "code",
      "execution_count": 5,
      "metadata": {
        "id": "xqsdX0-qjfbY"
      },
      "outputs": [],
      "source": [
        "# For saving model weights\n",
        "checkpoint_path = \"training/vgg16.weights.h5\"\n",
        "checkpoint_dir = os.path.dirname(checkpoint_path)\n",
        "\n",
        "# Create a callback that saves the model's weights\n",
        "cp_callback = tf.keras.callbacks.ModelCheckpoint(filepath=checkpoint_path,\n",
        "                                                 save_weights_only=True,\n",
        "                                                 verbose=1)"
      ]
    },
    {
      "cell_type": "code",
      "execution_count": 26,
      "metadata": {
        "colab": {
          "base_uri": "https://localhost:8080/"
        },
        "id": "hBDuaQb9cx_H",
        "outputId": "55bd2d77-5842-461b-e2d2-7c5a2d8d5e28"
      },
      "outputs": [],
      "source": [
        "# Train model\n",
        "optimizer = tf.keras.optimizers.SGD(learning_rate=0.001, momentum=0.9)\n",
        "batch_size = 128\n",
        "epochs = 100\n",
        "\n",
        "model.compile(\n",
        "    optimizer=optimizer,\n",
        "    # optimizer='adam',\n",
        "    loss='categorical_crossentropy',\n",
        "    metrics=[\n",
        "        'accuracy'\n",
        "    ]\n",
        ")\n",
        "\n",
        "def lr_scheduler(epoch):\n",
        "    return 0.001 * (0.5 ** (epoch // 20))\n",
        "\n",
        "reduce_lr = tf.keras.callbacks.LearningRateScheduler(lr_scheduler)\n",
        "\n",
        "aug = tf.keras.preprocessing.image.ImageDataGenerator(\n",
        "    rotation_range=20,\n",
        "    zoom_range=0.15,\n",
        "    width_shift_range=0.2,\n",
        "    height_shift_range=0.2,\n",
        "    shear_range=0.15,\n",
        "    horizontal_flip=True,\n",
        "    fill_mode=\"nearest\")\n",
        "\n",
        "# model.fit(aug.flow(x_train,y_train, batch_size=batch_size),\n",
        "#           batch_size=batch_size,\n",
        "#           epochs=epochs,\n",
        "#           callbacks=[reduce_lr, cp_callback],\n",
        "#           validation_data=(x_val, y_val))"
      ]
    },
    {
      "cell_type": "code",
      "execution_count": 7,
      "metadata": {
        "colab": {
          "base_uri": "https://localhost:8080/"
        },
        "id": "tnK3eAfxiHNX",
        "outputId": "c0bebfef-a10b-405e-f10e-ff6b6ed758c7"
      },
      "outputs": [
        {
          "name": "stdout",
          "output_type": "stream",
          "text": [
            "313/313 [==============================] - 20s 63ms/step - loss: 0.4016 - accuracy: 0.8821\n",
            "Test Acc: 88.21%, Test Loss:  0.40\n"
          ]
        }
      ],
      "source": [
        "model.load_weights(checkpoint_path)\n",
        "\n",
        "loss, acc = model.evaluate(x_test, y_test)\n",
        "print(\"Test Acc: {:5.2f}%, Test Loss: {:5.2f}\".format(100 * acc, loss))"
      ]
    },
    {
      "cell_type": "code",
      "execution_count": 21,
      "metadata": {},
      "outputs": [
        {
          "ename": "ValueError",
          "evalue": "cannot reshape array of size 153600000 into shape (50000,1,32,32)",
          "output_type": "error",
          "traceback": [
            "\u001b[1;31m---------------------------------------------------------------------------\u001b[0m",
            "\u001b[1;31mValueError\u001b[0m                                Traceback (most recent call last)",
            "Cell \u001b[1;32mIn[21], line 5\u001b[0m\n\u001b[0;32m      2\u001b[0m \u001b[38;5;28;01mdef\u001b[39;00m \u001b[38;5;21madd_time_dimension\u001b[39m(arr):\n\u001b[0;32m      3\u001b[0m     \u001b[38;5;28;01mreturn\u001b[39;00m np\u001b[38;5;241m.\u001b[39mreshape(arr, (arr\u001b[38;5;241m.\u001b[39mshape[\u001b[38;5;241m0\u001b[39m], \u001b[38;5;241m1\u001b[39m, arr\u001b[38;5;241m.\u001b[39mshape[\u001b[38;5;241m1\u001b[39m], arr\u001b[38;5;241m.\u001b[39mshape[\u001b[38;5;241m2\u001b[39m]))\n\u001b[1;32m----> 5\u001b[0m X_train_t \u001b[38;5;241m=\u001b[39m \u001b[43madd_time_dimension\u001b[49m\u001b[43m(\u001b[49m\u001b[43mx_train\u001b[49m\u001b[43m)\u001b[49m\n\u001b[0;32m      6\u001b[0m Y_train_t \u001b[38;5;241m=\u001b[39m add_time_dimension(y_train)\n\u001b[0;32m      7\u001b[0m X_val_t \u001b[38;5;241m=\u001b[39m add_time_dimension(x_val)\n",
            "Cell \u001b[1;32mIn[21], line 3\u001b[0m, in \u001b[0;36madd_time_dimension\u001b[1;34m(arr)\u001b[0m\n\u001b[0;32m      2\u001b[0m \u001b[38;5;28;01mdef\u001b[39;00m \u001b[38;5;21madd_time_dimension\u001b[39m(arr):\n\u001b[1;32m----> 3\u001b[0m     \u001b[38;5;28;01mreturn\u001b[39;00m \u001b[43mnp\u001b[49m\u001b[38;5;241;43m.\u001b[39;49m\u001b[43mreshape\u001b[49m\u001b[43m(\u001b[49m\u001b[43marr\u001b[49m\u001b[43m,\u001b[49m\u001b[43m \u001b[49m\u001b[43m(\u001b[49m\u001b[43marr\u001b[49m\u001b[38;5;241;43m.\u001b[39;49m\u001b[43mshape\u001b[49m\u001b[43m[\u001b[49m\u001b[38;5;241;43m0\u001b[39;49m\u001b[43m]\u001b[49m\u001b[43m,\u001b[49m\u001b[43m \u001b[49m\u001b[38;5;241;43m1\u001b[39;49m\u001b[43m,\u001b[49m\u001b[43m \u001b[49m\u001b[43marr\u001b[49m\u001b[38;5;241;43m.\u001b[39;49m\u001b[43mshape\u001b[49m\u001b[43m[\u001b[49m\u001b[38;5;241;43m1\u001b[39;49m\u001b[43m]\u001b[49m\u001b[43m,\u001b[49m\u001b[43m \u001b[49m\u001b[43marr\u001b[49m\u001b[38;5;241;43m.\u001b[39;49m\u001b[43mshape\u001b[49m\u001b[43m[\u001b[49m\u001b[38;5;241;43m2\u001b[39;49m\u001b[43m]\u001b[49m\u001b[43m)\u001b[49m\u001b[43m)\u001b[49m\n",
            "File \u001b[1;32m<__array_function__ internals>:180\u001b[0m, in \u001b[0;36mreshape\u001b[1;34m(*args, **kwargs)\u001b[0m\n",
            "File \u001b[1;32md:\\Folders\\Programming\\snn-research\\vgg16-snn\\.env\\lib\\site-packages\\numpy\\core\\fromnumeric.py:298\u001b[0m, in \u001b[0;36mreshape\u001b[1;34m(a, newshape, order)\u001b[0m\n\u001b[0;32m    198\u001b[0m \u001b[38;5;129m@array_function_dispatch\u001b[39m(_reshape_dispatcher)\n\u001b[0;32m    199\u001b[0m \u001b[38;5;28;01mdef\u001b[39;00m \u001b[38;5;21mreshape\u001b[39m(a, newshape, order\u001b[38;5;241m=\u001b[39m\u001b[38;5;124m'\u001b[39m\u001b[38;5;124mC\u001b[39m\u001b[38;5;124m'\u001b[39m):\n\u001b[0;32m    200\u001b[0m \u001b[38;5;250m    \u001b[39m\u001b[38;5;124;03m\"\"\"\u001b[39;00m\n\u001b[0;32m    201\u001b[0m \u001b[38;5;124;03m    Gives a new shape to an array without changing its data.\u001b[39;00m\n\u001b[0;32m    202\u001b[0m \n\u001b[1;32m   (...)\u001b[0m\n\u001b[0;32m    296\u001b[0m \u001b[38;5;124;03m           [5, 6]])\u001b[39;00m\n\u001b[0;32m    297\u001b[0m \u001b[38;5;124;03m    \"\"\"\u001b[39;00m\n\u001b[1;32m--> 298\u001b[0m     \u001b[38;5;28;01mreturn\u001b[39;00m \u001b[43m_wrapfunc\u001b[49m\u001b[43m(\u001b[49m\u001b[43ma\u001b[49m\u001b[43m,\u001b[49m\u001b[43m \u001b[49m\u001b[38;5;124;43m'\u001b[39;49m\u001b[38;5;124;43mreshape\u001b[39;49m\u001b[38;5;124;43m'\u001b[39;49m\u001b[43m,\u001b[49m\u001b[43m \u001b[49m\u001b[43mnewshape\u001b[49m\u001b[43m,\u001b[49m\u001b[43m \u001b[49m\u001b[43morder\u001b[49m\u001b[38;5;241;43m=\u001b[39;49m\u001b[43morder\u001b[49m\u001b[43m)\u001b[49m\n",
            "File \u001b[1;32md:\\Folders\\Programming\\snn-research\\vgg16-snn\\.env\\lib\\site-packages\\numpy\\core\\fromnumeric.py:57\u001b[0m, in \u001b[0;36m_wrapfunc\u001b[1;34m(obj, method, *args, **kwds)\u001b[0m\n\u001b[0;32m     54\u001b[0m     \u001b[38;5;28;01mreturn\u001b[39;00m _wrapit(obj, method, \u001b[38;5;241m*\u001b[39margs, \u001b[38;5;241m*\u001b[39m\u001b[38;5;241m*\u001b[39mkwds)\n\u001b[0;32m     56\u001b[0m \u001b[38;5;28;01mtry\u001b[39;00m:\n\u001b[1;32m---> 57\u001b[0m     \u001b[38;5;28;01mreturn\u001b[39;00m bound(\u001b[38;5;241m*\u001b[39margs, \u001b[38;5;241m*\u001b[39m\u001b[38;5;241m*\u001b[39mkwds)\n\u001b[0;32m     58\u001b[0m \u001b[38;5;28;01mexcept\u001b[39;00m \u001b[38;5;167;01mTypeError\u001b[39;00m:\n\u001b[0;32m     59\u001b[0m     \u001b[38;5;66;03m# A TypeError occurs if the object does have such a method in its\u001b[39;00m\n\u001b[0;32m     60\u001b[0m     \u001b[38;5;66;03m# class, but its signature is not identical to that of NumPy's. This\u001b[39;00m\n\u001b[1;32m   (...)\u001b[0m\n\u001b[0;32m     64\u001b[0m     \u001b[38;5;66;03m# Call _wrapit from within the except clause to ensure a potential\u001b[39;00m\n\u001b[0;32m     65\u001b[0m     \u001b[38;5;66;03m# exception has a traceback chain.\u001b[39;00m\n\u001b[0;32m     66\u001b[0m     \u001b[38;5;28;01mreturn\u001b[39;00m _wrapit(obj, method, \u001b[38;5;241m*\u001b[39margs, \u001b[38;5;241m*\u001b[39m\u001b[38;5;241m*\u001b[39mkwds)\n",
            "\u001b[1;31mValueError\u001b[0m: cannot reshape array of size 153600000 into shape (50000,1,32,32)"
          ]
        }
      ],
      "source": [
        "# Add time dimension to data for SNN\n",
        "def add_time_dimension(arr):\n",
        "    return np.reshape(arr, (arr.shape[0], 1, -1))\n",
        "\n",
        "X_train_t = add_time_dimension(x_train)\n",
        "Y_train_t = add_time_dimension(y_train)\n",
        "X_val_t = add_time_dimension(x_val)\n",
        "Y_val_t = add_time_dimension(y_val)\n",
        "X_test_t = add_time_dimension(x_test)\n",
        "Y_test_t = add_time_dimension(y_test)\n",
        "\n",
        "print(X_train_t.shape)"
      ]
    },
    {
      "cell_type": "code",
      "execution_count": 22,
      "metadata": {},
      "outputs": [
        {
          "name": "stderr",
          "output_type": "stream",
          "text": [
            "d:\\Folders\\Programming\\snn-research\\vgg16-snn\\.env\\lib\\site-packages\\nengo_dl\\converter.py:920: UserWarning: Converting sequential model to functional model; use `Converter.model` to refer to the functional model (rather than the original sequential model) when working with the output of the Converter\n",
            "  warnings.warn(\n",
            "d:\\Folders\\Programming\\snn-research\\vgg16-snn\\.env\\lib\\site-packages\\nengo_dl\\converter.py:324: UserWarning: Cannot convert max pooling layers to native Nengo objects; consider setting max_to_avg_pool=True to use average pooling instead. Falling back to TensorNode.\n",
            "  warnings.warn(\n",
            "d:\\Folders\\Programming\\snn-research\\vgg16-snn\\.env\\lib\\site-packages\\nengo_dl\\converter.py:324: UserWarning: Layer type Dropout does not have a registered converter. Falling back to TensorNode.\n",
            "  warnings.warn(\n",
            "d:\\Folders\\Programming\\snn-research\\vgg16-snn\\.env\\lib\\site-packages\\nengo_dl\\converter.py:583: UserWarning: Activation type <function softmax at 0x000002317FC37250> does not have a native Nengo equivalent; falling back to a TensorNode\n",
            "  warnings.warn(\n"
          ]
        }
      ],
      "source": [
        "# Begin SNN conversion\n",
        "ndl_model = nengo_dl.Converter(\n",
        "    model,\n",
        "    swap_activations={\n",
        "        tf.keras.activations.relu: nengo.SpikingRectifiedLinear()\n",
        "    },\n",
        "    scale_firing_rates=20,\n",
        "    synapse=0.005,\n",
        "    inference_only=True\n",
        ")\n",
        "\n",
        "# Train model\n",
        "# with nengo_dl.Simulator(converter.net, minibatch_size=batch_size) as sim:\n",
        "#     # run training\n",
        "#     sim.compile(\n",
        "#         optimizer=optimizer,\n",
        "#         loss=tf.losses.CategoricalCrossentropy(from_logits=True),\n",
        "#         metrics=[tf.metrics.sparse_categorical_accuracy],\n",
        "#     )\n",
        "\n",
        "#     converted_inp = converter.inputs[model.input]\n",
        "#     converted_dense = converter.outputs[model.output]\n",
        "\n",
        "#     sim.fit(\n",
        "#         {converted_inp: X_train_t},\n",
        "#         {converted_dense: Y_train_t},\n",
        "#         validation_data=(\n",
        "#             {converted_inp: X_val_t},\n",
        "#             {converted_dense: Y_val_t}\n",
        "#         ),\n",
        "#         callbacks=[reduce_lr],\n",
        "#         epochs=epochs\n",
        "#     )\n",
        "\n",
        "#     # save the parameters to file\n",
        "#     sim.save_params(\"./training/keras_to_snn_params\")"
      ]
    },
    {
      "cell_type": "code",
      "execution_count": 28,
      "metadata": {},
      "outputs": [
        {
          "ename": "KeyError",
          "evalue": "(<Reference wrapping <KerasTensor: shape=(None, 32, 32, 3) dtype=float32 (created by layer 'reshape')>>,)",
          "output_type": "error",
          "traceback": [
            "\u001b[1;31m---------------------------------------------------------------------------\u001b[0m",
            "\u001b[1;31mKeyError\u001b[0m                                  Traceback (most recent call last)",
            "Cell \u001b[1;32mIn[28], line 31\u001b[0m\n\u001b[0;32m     26\u001b[0m                             \u001b[38;5;66;03m# class-probabilities output of the model.\u001b[39;00m\n\u001b[0;32m     28\u001b[0m test_batches \u001b[38;5;241m=\u001b[39m get_nengo_compatible_test_data_generator(\n\u001b[0;32m     29\u001b[0m     batch_size\u001b[38;5;241m=\u001b[39mbatch_size, n_steps \u001b[38;5;241m=\u001b[39m n_steps)\n\u001b[1;32m---> 31\u001b[0m ndl_mdl_inpt \u001b[38;5;241m=\u001b[39m \u001b[43mndl_model\u001b[49m\u001b[38;5;241;43m.\u001b[39;49m\u001b[43minputs\u001b[49m\u001b[43m[\u001b[49m\u001b[43mtf\u001b[49m\u001b[38;5;241;43m.\u001b[39;49m\u001b[43mkeras\u001b[49m\u001b[38;5;241;43m.\u001b[39;49m\u001b[43mlayers\u001b[49m\u001b[38;5;241;43m.\u001b[39;49m\u001b[43mReshape\u001b[49m\u001b[43m(\u001b[49m\u001b[43m(\u001b[49m\u001b[38;5;241;43m32\u001b[39;49m\u001b[43m,\u001b[49m\u001b[43m \u001b[49m\u001b[38;5;241;43m32\u001b[39;49m\u001b[43m,\u001b[49m\u001b[43m \u001b[49m\u001b[38;5;241;43m3\u001b[39;49m\u001b[43m)\u001b[49m\u001b[43m)\u001b[49m\u001b[43m(\u001b[49m\u001b[43mmodel\u001b[49m\u001b[38;5;241;43m.\u001b[39;49m\u001b[43minput\u001b[49m\u001b[43m)\u001b[49m\u001b[43m]\u001b[49m \u001b[38;5;66;03m# Input layer is Layer 0.\u001b[39;00m\n\u001b[0;32m     32\u001b[0m ndl_mdl_otpt \u001b[38;5;241m=\u001b[39m ndl_model\u001b[38;5;241m.\u001b[39moutputs[model\u001b[38;5;241m.\u001b[39moutput] \u001b[38;5;66;03m# Output layer is last.\u001b[39;00m\n\u001b[0;32m     34\u001b[0m \u001b[38;5;66;03m# Run the simulation.\u001b[39;00m\n",
            "File \u001b[1;32md:\\Folders\\Programming\\snn-research\\vgg16-snn\\.env\\lib\\site-packages\\nengo_dl\\converter.py:398\u001b[0m, in \u001b[0;36mConverter.KerasTensorDict.__getitem__\u001b[1;34m(self, key)\u001b[0m\n\u001b[0;32m    397\u001b[0m \u001b[38;5;28;01mdef\u001b[39;00m \u001b[38;5;21m__getitem__\u001b[39m(\u001b[38;5;28mself\u001b[39m, key):\n\u001b[1;32m--> 398\u001b[0m     \u001b[38;5;28;01mreturn\u001b[39;00m \u001b[38;5;28;43mself\u001b[39;49m\u001b[38;5;241;43m.\u001b[39;49m\u001b[43mdict\u001b[49m\u001b[43m[\u001b[49m\u001b[38;5;28;43mself\u001b[39;49m\u001b[38;5;241;43m.\u001b[39;49m\u001b[43m_get_key\u001b[49m\u001b[43m(\u001b[49m\u001b[43mkey\u001b[49m\u001b[43m)\u001b[49m\u001b[43m]\u001b[49m\n",
            "\u001b[1;31mKeyError\u001b[0m: (<Reference wrapping <KerasTensor: shape=(None, 32, 32, 3) dtype=float32 (created by layer 'reshape')>>,)"
          ]
        }
      ],
      "source": [
        "# Source: https://r-gaurav.github.io/2021/03/07/Spiking-Neural-Nets-for-Image-Classification-in-Nengo-DL.html\n",
        "# Tile the test images.\n",
        "def get_nengo_compatible_test_data_generator(batch_size=100, n_steps=30):\n",
        "  \"\"\"\n",
        "  Returns a test data generator of tiled (i.e. repeated) images.\n",
        "\n",
        "  Args:\n",
        "    batch_size <int>: Number of data elements in each batch.\n",
        "    n_steps <int>: Number of timesteps for which the test data has to\n",
        "                   be repeated.\n",
        "  \"\"\"\n",
        "  num_images = x_test.shape[0]\n",
        "  # Flatten the images\n",
        "  reshaped_x_test = x_test.reshape((num_images, 1, -1))\n",
        "  # Tile/Repeat them for `n_steps` times.\n",
        "  tiled_x_test = np.tile(reshaped_x_test, (1, n_steps, 1))\n",
        "\n",
        "  for i in range(0, num_images, batch_size):\n",
        "    yield (tiled_x_test[i:i+batch_size], y_test[i:i+batch_size])\n",
        "\n",
        "n_steps = 30 # Number of timesteps\n",
        "collect_spikes_output = True\n",
        "ndl_mdl_spikes = [] # To store the spike outputs of the first Conv layer and the\n",
        "                    # penultimate dense layer whose probes we defined earlier.\n",
        "ndl_mdl_otpt_cls_probs = [] # To store the true class labels and the temporal\n",
        "                            # class-probabilities output of the model.\n",
        "\n",
        "test_batches = get_nengo_compatible_test_data_generator(\n",
        "    batch_size=batch_size, n_steps = n_steps)\n",
        "\n",
        "ndl_mdl_inpt = ndl_model.inputs[model.input] # Input layer is Layer 0.\n",
        "ndl_mdl_otpt = ndl_model.outputs[model.output] # Output layer is last.\n",
        "\n",
        "# Run the simulation.\n",
        "with nengo_dl.Simulator(ndl_model.net, minibatch_size=batch_size) as sim:\n",
        "  # Predict on each batch.\n",
        "  for batch in test_batches:\n",
        "    sim_data = sim.predict_on_batch({ndl_mdl_inpt: batch[0]})\n",
        "    for y_true, y_pred in zip(batch[1], sim_data[ndl_mdl_otpt]):\n",
        "      # Note that y_true is an array of shape (10,) and y_pred is a matrix of\n",
        "      # shape (n_steps, 10) where 10 is the number of classes in CIFAR-10 dataset.\n",
        "      ndl_mdl_otpt_cls_probs.append((y_true, y_pred))"
      ]
    }
  ],
  "metadata": {
    "accelerator": "GPU",
    "colab": {
      "gpuType": "T4",
      "provenance": []
    },
    "kernelspec": {
      "display_name": "Python 3",
      "name": "python3"
    },
    "language_info": {
      "codemirror_mode": {
        "name": "ipython",
        "version": 3
      },
      "file_extension": ".py",
      "mimetype": "text/x-python",
      "name": "python",
      "nbconvert_exporter": "python",
      "pygments_lexer": "ipython3",
      "version": "3.10.9"
    }
  },
  "nbformat": 4,
  "nbformat_minor": 0
}
