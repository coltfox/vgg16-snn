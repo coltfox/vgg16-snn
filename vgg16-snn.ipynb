{
  "cells": [
    {
      "cell_type": "code",
      "execution_count": 22,
      "metadata": {
        "id": "Qeec01hbb1Is"
      },
      "outputs": [],
      "source": [
        "import os\n",
        "import tensorflow as tf\n",
        "import numpy as np\n",
        "import matplotlib.pyplot as plt\n",
        "import nengo\n",
        "import nengo_dl\n",
        "from tensorflow.keras.utils import to_categorical\n",
        "\n",
        "#sources:\n",
        "#https://www.kaggle.com/code/vtu5118/cifar-10-using-vgg16\n",
        "#https://towardsdatascience.com/creating-vgg-from-scratch-using-tensorflow-a998a5640155"
      ]
    },
    {
      "cell_type": "code",
      "execution_count": 23,
      "metadata": {
        "colab": {
          "base_uri": "https://localhost:8080/",
          "height": 952
        },
        "id": "3wvUGsdHyeJs",
        "outputId": "b883ac3c-9d1a-4477-ecff-a5c3939c68f5"
      },
      "outputs": [
        {
          "name": "stdout",
          "output_type": "stream",
          "text": [
            "Model: \"sequential_2\"\n",
            "_________________________________________________________________\n",
            " Layer (type)                Output Shape              Param #   \n",
            "=================================================================\n",
            " block1_conv1 (Conv2D)       (None, 32, 32, 64)        1792      \n",
            "                                                                 \n",
            " block1_conv2 (Conv2D)       (None, 32, 32, 64)        36928     \n",
            "                                                                 \n",
            " block1_pool (MaxPooling2D)  (None, 16, 16, 64)        0         \n",
            "                                                                 \n",
            " block2_conv1 (Conv2D)       (None, 16, 16, 128)       73856     \n",
            "                                                                 \n",
            " block2_conv2 (Conv2D)       (None, 16, 16, 128)       147584    \n",
            "                                                                 \n",
            " block2_pool (MaxPooling2D)  (None, 8, 8, 128)         0         \n",
            "                                                                 \n",
            " block3_conv1 (Conv2D)       (None, 8, 8, 256)         295168    \n",
            "                                                                 \n",
            " block3_conv2 (Conv2D)       (None, 8, 8, 256)         590080    \n",
            "                                                                 \n",
            " block3_conv3 (Conv2D)       (None, 8, 8, 256)         590080    \n",
            "                                                                 \n",
            " block3_pool (MaxPooling2D)  (None, 4, 4, 256)         0         \n",
            "                                                                 \n",
            " block4_conv1 (Conv2D)       (None, 4, 4, 512)         1180160   \n",
            "                                                                 \n",
            " block4_conv2 (Conv2D)       (None, 4, 4, 512)         2359808   \n",
            "                                                                 \n",
            " block4_conv3 (Conv2D)       (None, 4, 4, 512)         2359808   \n",
            "                                                                 \n",
            " block4_pool (MaxPooling2D)  (None, 2, 2, 512)         0         \n",
            "                                                                 \n",
            " block5_conv1 (Conv2D)       (None, 2, 2, 512)         2359808   \n",
            "                                                                 \n",
            " block5_conv2 (Conv2D)       (None, 2, 2, 512)         2359808   \n",
            "                                                                 \n",
            " block5_conv3 (Conv2D)       (None, 2, 2, 512)         2359808   \n",
            "                                                                 \n",
            " block5_pool (MaxPooling2D)  (None, 1, 1, 512)         0         \n",
            "                                                                 \n",
            " flatten_2 (Flatten)         (None, 512)               0         \n",
            "                                                                 \n",
            " hidden1 (Dense)             (None, 512)               262656    \n",
            "                                                                 \n",
            " dropout (Dropout)           (None, 512)               0         \n",
            "                                                                 \n",
            " hidden2 (Dense)             (None, 256)               131328    \n",
            "                                                                 \n",
            " dropout_1 (Dropout)         (None, 256)               0         \n",
            "                                                                 \n",
            " predictions (Dense)         (None, 10)                2570      \n",
            "                                                                 \n",
            "=================================================================\n",
            "Total params: 15,111,242\n",
            "Trainable params: 15,111,242\n",
            "Non-trainable params: 0\n",
            "_________________________________________________________________\n"
          ]
        }
      ],
      "source": [
        "vgg16_model = tf.keras.applications.vgg16.VGG16(weights='imagenet',\n",
        "                    include_top=False,\n",
        "                    classes=10,\n",
        "                    input_shape=(32,32,3)# input: 32x32 images with 3 channels -> (32, 32, 3) tensors.\n",
        "                   )\n",
        "\n",
        "model = tf.keras.models.Sequential()\n",
        "\n",
        "# Add vgg16 layers\n",
        "for layer in vgg16_model.layers:\n",
        "    # Replace max pool with avg pool (nengo doesnt support max pooling)\n",
        "    # if isinstance(layer, tf.keras.layers.MaxPooling2D):\n",
        "    #     model.add(tf.keras.layers.AveragePooling2D(layer.pool_size, layer.strides, layer.padding, layer.data_format))\n",
        "    #     continue\n",
        "    model.add(layer)\n",
        "\n",
        "\n",
        "# Fully connected layers\n",
        "model.add(tf.keras.layers.Flatten())\n",
        "model.add(tf.keras.layers.Dense(512, activation='relu', name='hidden1'))\n",
        "model.add(tf.keras.layers.Dropout(0.4))\n",
        "model.add(tf.keras.layers.Dense(256, activation='relu', name='hidden2'))\n",
        "model.add(tf.keras.layers.Dropout(0.4))\n",
        "model.add(tf.keras.layers.Dense(10, activation='softmax', name='predictions'))\n",
        "\n",
        "model.summary()"
      ]
    },
    {
      "cell_type": "markdown",
      "metadata": {
        "id": "QpL5gw_yycfa"
      },
      "source": []
    },
    {
      "cell_type": "code",
      "execution_count": 24,
      "metadata": {
        "id": "pxpwFCsqcbXb"
      },
      "outputs": [],
      "source": [
        "# Load CIFAR10 data\n",
        "(x_train, y_train), (x_test, y_test) = tf.keras.datasets.cifar10.load_data()\n",
        "\n",
        "# One hot encode labels\n",
        "y_train = to_categorical(y_train, num_classes=10)\n",
        "y_test = to_categorical(y_test, num_classes=10)\n",
        "\n",
        "# Data normalization\n",
        "x_train = x_train.astype('float32')\n",
        "x_test = x_test.astype('float32')\n",
        "x_train  /= 255\n",
        "x_test /= 255"
      ]
    },
    {
      "cell_type": "code",
      "execution_count": 25,
      "metadata": {
        "colab": {
          "base_uri": "https://localhost:8080/"
        },
        "id": "UgE6iNj2rxQD",
        "outputId": "51e835eb-71aa-4957-ebdc-14f3aacaea33"
      },
      "outputs": [
        {
          "name": "stdout",
          "output_type": "stream",
          "text": [
            "(50000, 32, 32, 3)\n",
            "(50000, 32, 32, 3)\n",
            "(10000, 32, 32, 3)\n",
            "(10000, 10)\n",
            "(40000, 32, 32, 3)\n",
            "(40000, 10)\n"
          ]
        }
      ],
      "source": [
        "# Shuffle data before splitting into validation set\n",
        "\n",
        "p = np.random.permutation(len(x_train))\n",
        "print(x_train.shape)\n",
        "x_train, y_train = x_train[p], y_train[p]\n",
        "print(x_train.shape)\n",
        "\n",
        "# 20% validation, 80% training\n",
        "val_split = 0.2\n",
        "num_val = int(val_split * len(x_train))\n",
        "\n",
        "# Split into train, validation, and test sets\n",
        "x_val = x_train[:num_val]\n",
        "y_val = y_train[:num_val]\n",
        "print(x_val.shape)\n",
        "print(y_val.shape)\n",
        "\n",
        "x_train = x_train[num_val:]\n",
        "y_train = y_train[num_val:]\n",
        "print(x_train.shape)\n",
        "print(y_train.shape)"
      ]
    },
    {
      "cell_type": "code",
      "execution_count": 26,
      "metadata": {
        "id": "xqsdX0-qjfbY"
      },
      "outputs": [],
      "source": [
        "# For saving model weights\n",
        "checkpoint_path = \"training/vgg16.weights.h5\"\n",
        "checkpoint_dir = os.path.dirname(checkpoint_path)\n",
        "\n",
        "# Create a callback that saves the model's weights\n",
        "cp_callback = tf.keras.callbacks.ModelCheckpoint(filepath=checkpoint_path,\n",
        "                                                 save_weights_only=True,\n",
        "                                                 verbose=1)"
      ]
    },
    {
      "cell_type": "code",
      "execution_count": 27,
      "metadata": {
        "colab": {
          "base_uri": "https://localhost:8080/"
        },
        "id": "hBDuaQb9cx_H",
        "outputId": "55bd2d77-5842-461b-e2d2-7c5a2d8d5e28"
      },
      "outputs": [],
      "source": [
        "# Train model with tf\n",
        "optimizer = tf.keras.optimizers.SGD(learning_rate=0.001, momentum=0.9)\n",
        "batch_size_tf = 128\n",
        "epochs = 100\n",
        "\n",
        "model.compile(\n",
        "    optimizer=optimizer,\n",
        "    # optimizer='adam',\n",
        "    loss='categorical_crossentropy',\n",
        "    metrics=[\n",
        "        'accuracy'\n",
        "    ]\n",
        ")\n",
        "\n",
        "# def lr_scheduler(epoch):\n",
        "#     return 0.001 * (0.5 ** (epoch // 20))\n",
        "\n",
        "# reduce_lr = tf.keras.callbacks.LearningRateScheduler(lr_scheduler)\n",
        "\n",
        "# aug = tf.keras.preprocessing.image.ImageDataGenerator(\n",
        "#     rotation_range=20,\n",
        "#     zoom_range=0.15,\n",
        "#     width_shift_range=0.2,\n",
        "#     height_shift_range=0.2,\n",
        "#     shear_range=0.15,\n",
        "#     horizontal_flip=True,\n",
        "#     fill_mode=\"nearest\")\n",
        "\n",
        "# model.fit(aug.flow(x_train,y_train, batch_size=batch_size_tf),\n",
        "#           batch_size=batch_size_tf,\n",
        "#           epochs=epochs,\n",
        "#           callbacks=[reduce_lr, cp_callback],\n",
        "#           validation_data=(x_val, y_val))"
      ]
    },
    {
      "cell_type": "code",
      "execution_count": 28,
      "metadata": {
        "colab": {
          "base_uri": "https://localhost:8080/"
        },
        "id": "tnK3eAfxiHNX",
        "outputId": "c0bebfef-a10b-405e-f10e-ff6b6ed758c7"
      },
      "outputs": [
        {
          "name": "stdout",
          "output_type": "stream",
          "text": [
            "313/313 [==============================] - 3s 8ms/step - loss: 0.4016 - accuracy: 0.8821\n",
            "Test Acc: 88.21%, Test Loss:  0.40\n"
          ]
        }
      ],
      "source": [
        "model.load_weights(checkpoint_path)\n",
        "\n",
        "loss, acc = model.evaluate(x_test, y_test)\n",
        "# 88% acc with tf\n",
        "print(\"Test Acc: {:5.2f}%, Test Loss: {:5.2f}\".format(100 * acc, loss))"
      ]
    },
    {
      "cell_type": "code",
      "execution_count": 29,
      "metadata": {},
      "outputs": [],
      "source": [
        "# Add time dimension to data for SNN\n",
        "def add_time_dimension(arr):\n",
        "    return np.reshape(arr, (arr.shape[0], 1, -1))\n",
        "\n",
        "X_train_t = add_time_dimension(x_train)\n",
        "Y_train_t = add_time_dimension(y_train)\n",
        "X_val_t = add_time_dimension(x_val)\n",
        "Y_val_t = add_time_dimension(y_val)\n",
        "X_test_t = add_time_dimension(x_test)\n",
        "Y_test_t = add_time_dimension(y_test)"
      ]
    },
    {
      "cell_type": "code",
      "execution_count": 126,
      "metadata": {},
      "outputs": [
        {
          "name": "stderr",
          "output_type": "stream",
          "text": [
            "/root/vgg16-snn/.env/lib/python3.8/site-packages/nengo_dl/converter.py:920: UserWarning: Converting sequential model to functional model; use `Converter.model` to refer to the functional model (rather than the original sequential model) when working with the output of the Converter\n",
            "  warnings.warn(\n",
            "/root/vgg16-snn/.env/lib/python3.8/site-packages/nengo_dl/converter.py:324: UserWarning: Cannot convert max pooling layers to native Nengo objects; consider setting max_to_avg_pool=True to use average pooling instead. Falling back to TensorNode.\n",
            "  warnings.warn(\n",
            "/root/vgg16-snn/.env/lib/python3.8/site-packages/nengo_dl/converter.py:324: UserWarning: Layer type Dropout does not have a registered converter. Falling back to TensorNode.\n",
            "  warnings.warn(\n",
            "/root/vgg16-snn/.env/lib/python3.8/site-packages/nengo_dl/converter.py:583: UserWarning: Activation type <function softmax at 0x7f982affd940> does not have a native Nengo equivalent; falling back to a TensorNode\n",
            "  warnings.warn(\n"
          ]
        }
      ],
      "source": [
        "converter = nengo_dl.Converter(\n",
        "    model,\n",
        "    swap_activations={\n",
        "        tf.keras.activations.relu: nengo.SpikingRectifiedLinear()\n",
        "    },\n",
        "    scale_firing_rates=20,\n",
        "    synapse=0.1,\n",
        "    inference_only=True,\n",
        "    # max_to_avg_pool=True\n",
        ")"
      ]
    },
    {
      "cell_type": "code",
      "execution_count": 127,
      "metadata": {},
      "outputs": [],
      "source": [
        "# Source: https://r-gaurav.github.io/2021/03/07/Spiking-Neural-Nets-for-Image-Classification-in-Nengo-DL.html\n",
        "# Tile the test images n_steps times.\n",
        "def get_nengo_compatible_test_data_generator(x, y, batch_size=100, n_steps=30):\n",
        "  \"\"\"\n",
        "  Returns a test data generator of tiled (i.e. repeated) images.\n",
        "\n",
        "  Args:\n",
        "    batch_size <int>: Number of data elements in each batch.\n",
        "    n_steps <int>: Number of timesteps for which the test data has to\n",
        "                   be repeated.\n",
        "  \"\"\"\n",
        "  num_images = x.shape[0]\n",
        "  # Flatten the images\n",
        "  reshaped_x = x.reshape((num_images, 1, -1))\n",
        "  # Tile/Repeat them for `n_steps` times.\n",
        "  tiled_x = np.tile(reshaped_x, (1, n_steps, 1))\n",
        "\n",
        "  for i in range(0, num_images, batch_size):\n",
        "    yield (tiled_x[i:i+batch_size], y[i:i+batch_size])"
      ]
    },
    {
      "cell_type": "code",
      "execution_count": 128,
      "metadata": {},
      "outputs": [],
      "source": [
        "model_input = list(converter.inputs.keys())[0]\n",
        "model_output = list(converter.outputs.keys())[0]\n",
        "\n",
        "model_layers = list(converter.layers.keys())\n",
        "conv1 = model_layers[1]\n",
        "penltmt_layer = model_layers[-3]\n",
        "\n",
        "# Get the probes for Input, first Conv, and the Output layers.\n",
        "ndl_mdl_inpt = converter.inputs[model_input] # Input layer is Layer 0.\n",
        "ndl_mdl_otpt = converter.outputs[model_output] # Output layer is last.\n",
        "\n",
        "with converter.net:\n",
        "  nengo_dl.configure_settings(stateful=False, keep_history=False) # Optimize simulation speed.\n",
        "  # Probe for the first Conv layer.\n",
        "  first_conv_probe = nengo.Probe(converter.layers[conv1])\n",
        "  # Probe for penultimate dense layer.\n",
        "  penltmt_dense_probe = nengo.Probe(converter.layers[[penltmt_layer]])"
      ]
    },
    {
      "cell_type": "code",
      "execution_count": 143,
      "metadata": {},
      "outputs": [
        {
          "name": "stdout",
          "output_type": "stream",
          "text": [
            "Starting inference on 4 batches...\n",
            "Running inference on batch 1/4...\n",
            "Running inference on batch 2/4...\n",
            "Running inference on batch 3/4...\n",
            "Running inference on batch 4/4...\n"
          ]
        }
      ],
      "source": [
        "n_steps = 20 # Number of timesteps\n",
        "batch_size = 4\n",
        "collect_spikes_output = True\n",
        "\n",
        "ndl_mdl_spikes = [] # To store the spike outputs of the first Conv layer and the\n",
        "                # penultimate dense layer whose probes we defined earlier.\n",
        "ndl_mdl_otpt_cls_probs = [] # To store the true class labels and the temporal\n",
        "                            # class-probabilities output of the model.\n",
        "\n",
        "num_samples = 16\n",
        "x_test_slice = X_test_t[:num_samples]\n",
        "y_test_slice = Y_test_t[:num_samples]\n",
        "\n",
        "test_batches = get_nengo_compatible_test_data_generator(x_test_slice, y_test_slice,\n",
        "    batch_size=batch_size, n_steps = n_steps)\n",
        "\n",
        "ndl_mdl_inpt = converter.inputs[model_input] # Input layer is Layer 0.\n",
        "ndl_mdl_otpt = converter.outputs[model_output] # Output layer is last.\n",
        "\n",
        "num_batches = int(x_test_slice.shape[0] / batch_size)\n",
        "\n",
        "# tiled_test_images = np.tile(x_test_slice, (1, n_steps, 1))\n",
        "\n",
        "# Run the simulation.\n",
        "# with nengo_dl.Simulator(converter.net) as sim:\n",
        "#     data = sim.predict({ndl_mdl_inpt:tiled_test_images})\n",
        "\n",
        "# predictions = np.argmax(data[ndl_mdl_otpt][:, -1], axis=-1)\n",
        "# accuracy = (predictions ==y_test_slice[:num_samples, 0, 0]).mean()\n",
        "# print(f\"Test accuracy: {100 * accuracy:.2f}%\")\n",
        "with nengo_dl.Simulator(converter.net, minibatch_size=batch_size, progress_bar=False) as sim:\n",
        "    # Predict on each batch.\n",
        "    print(f\"Starting inference on {num_batches} batches...\")\n",
        "    for i, batch in enumerate(test_batches):\n",
        "        if len(batch[0]) < batch_size:\n",
        "            print(f\"Batch {i} too small ({len(batch)} < {batch_size}). Skipping...\")\n",
        "            continue\n",
        "        print(f\"Running inference on batch {(i + 1)}/{num_batches}...\")\n",
        "        sim_data = sim.predict_on_batch({ndl_mdl_inpt: batch[0]})\n",
        "        # print(batch[1], sim_data[ndl_mdl_otpt])\n",
        "        ndl_mdl_otpt_cls_probs.append((batch[1][-1], sim_data[ndl_mdl_otpt][-1]))\n",
        "        # for y_true, y_pred in zip(batch[1], sim_data[ndl_mdl_otpt]):\n",
        "        #     # Note that y_true is an array of shape (10,) and y_pred is a matrix of\n",
        "        #     # shape (n_steps, 10) where 10 is the number of classes in CIFAR-10 dataset.\n",
        "        #     ndl_mdl_otpt_cls_probs.append((y_true, y_pred))\n",
        "        \n",
        "        # Collect the spikes if required.\n",
        "        if collect_spikes_output:\n",
        "            for i in range(batch_size): # Collecting spikes for each image in first batch.\n",
        "                ndl_mdl_spikes.append({\n",
        "                    first_conv_probe.obj.ensemble.label: sim_data[first_conv_probe][i],\n",
        "                    penltmt_dense_probe.obj.ensemble.label: sim_data[penltmt_dense_probe][i]\n",
        "                })\n",
        "            # Not collecting the spikes for rest batches to save memory.\n",
        "            collect_spikes_output = False\n"
      ]
    },
    {
      "cell_type": "code",
      "execution_count": 147,
      "metadata": {},
      "outputs": [
        {
          "name": "stdout",
          "output_type": "stream",
          "text": [
            "(1, 10) (1, 10)\n",
            "(1, 10) (1, 10)\n",
            "(1, 10) (1, 10)\n",
            "(1, 10) (1, 10)\n",
            "Spiking network prediction accuracy: 0.0000 %\n"
          ]
        }
      ],
      "source": [
        "acc = 0\n",
        "temporal_cls_probs = [] # To store the temporal class-probabilities of each test image.\n",
        "for y_true, y_pred in ndl_mdl_otpt_cls_probs:\n",
        "  # Pick the spiking network's last time-step output, therefore -1 in y_pred.\n",
        "  temporal_cls_probs.append(y_pred)\n",
        "  print(y_true.shape, y_pred.shape)\n",
        "  if np.argmax(y_true) == np.argmax(y_pred):\n",
        "    acc += 1\n",
        "\n",
        "print(\"Spiking network prediction accuracy: %0.4f %%\" % (acc * 100/ x_test_slice.shape[0]))"
      ]
    }
  ],
  "metadata": {
    "accelerator": "GPU",
    "colab": {
      "gpuType": "T4",
      "provenance": []
    },
    "kernelspec": {
      "display_name": "Python 3",
      "name": "python3"
    },
    "language_info": {
      "codemirror_mode": {
        "name": "ipython",
        "version": 3
      },
      "file_extension": ".py",
      "mimetype": "text/x-python",
      "name": "python",
      "nbconvert_exporter": "python",
      "pygments_lexer": "ipython3",
      "version": "3.8.10"
    }
  },
  "nbformat": 4,
  "nbformat_minor": 0
}
